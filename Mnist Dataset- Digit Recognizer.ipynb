{
 "cells": [
  {
   "cell_type": "markdown",
   "metadata": {},
   "source": [
    "# Data Understanding"
   ]
  },
  {
   "cell_type": "code",
   "execution_count": 3,
   "metadata": {},
   "outputs": [],
   "source": [
    "import numpy as np\n",
    "import pandas as pd\n",
    "import matplotlib.pyplot as plt \n",
    "import seaborn as sns\n",
    "from sklearn import linear_model\n",
    "from sklearn.model_selection import train_test_split\n",
    "import gc #TO FREE THE MEMORY\n",
    "import cv2\n",
    "import warnings\n",
    "warnings.filterwarnings(\"ignore\")\n"
   ]
  },
  {
   "cell_type": "markdown",
   "metadata": {},
   "source": [
    "### Importing DataSet"
   ]
  },
  {
   "cell_type": "code",
   "execution_count": 5,
   "metadata": {},
   "outputs": [
    {
     "name": "stdout",
     "output_type": "stream",
     "text": [
      "<class 'pandas.core.frame.DataFrame'>\n",
      "RangeIndex: 42000 entries, 0 to 41999\n",
      "Columns: 785 entries, label to pixel783\n",
      "dtypes: int64(785)\n",
      "memory usage: 251.5 MB\n"
     ]
    }
   ],
   "source": [
    "digits=pd.read_csv(\"train.csv\")\n",
    "digits.info()"
   ]
  },
  {
   "cell_type": "code",
   "execution_count": 6,
   "metadata": {},
   "outputs": [
    {
     "data": {
      "text/html": [
       "<div>\n",
       "<style scoped>\n",
       "    .dataframe tbody tr th:only-of-type {\n",
       "        vertical-align: middle;\n",
       "    }\n",
       "\n",
       "    .dataframe tbody tr th {\n",
       "        vertical-align: top;\n",
       "    }\n",
       "\n",
       "    .dataframe thead th {\n",
       "        text-align: right;\n",
       "    }\n",
       "</style>\n",
       "<table border=\"1\" class=\"dataframe\">\n",
       "  <thead>\n",
       "    <tr style=\"text-align: right;\">\n",
       "      <th></th>\n",
       "      <th>label</th>\n",
       "      <th>pixel0</th>\n",
       "      <th>pixel1</th>\n",
       "      <th>pixel2</th>\n",
       "      <th>pixel3</th>\n",
       "      <th>pixel4</th>\n",
       "      <th>pixel5</th>\n",
       "      <th>pixel6</th>\n",
       "      <th>pixel7</th>\n",
       "      <th>pixel8</th>\n",
       "      <th>...</th>\n",
       "      <th>pixel774</th>\n",
       "      <th>pixel775</th>\n",
       "      <th>pixel776</th>\n",
       "      <th>pixel777</th>\n",
       "      <th>pixel778</th>\n",
       "      <th>pixel779</th>\n",
       "      <th>pixel780</th>\n",
       "      <th>pixel781</th>\n",
       "      <th>pixel782</th>\n",
       "      <th>pixel783</th>\n",
       "    </tr>\n",
       "  </thead>\n",
       "  <tbody>\n",
       "    <tr>\n",
       "      <th>0</th>\n",
       "      <td>1</td>\n",
       "      <td>0</td>\n",
       "      <td>0</td>\n",
       "      <td>0</td>\n",
       "      <td>0</td>\n",
       "      <td>0</td>\n",
       "      <td>0</td>\n",
       "      <td>0</td>\n",
       "      <td>0</td>\n",
       "      <td>0</td>\n",
       "      <td>...</td>\n",
       "      <td>0</td>\n",
       "      <td>0</td>\n",
       "      <td>0</td>\n",
       "      <td>0</td>\n",
       "      <td>0</td>\n",
       "      <td>0</td>\n",
       "      <td>0</td>\n",
       "      <td>0</td>\n",
       "      <td>0</td>\n",
       "      <td>0</td>\n",
       "    </tr>\n",
       "    <tr>\n",
       "      <th>1</th>\n",
       "      <td>0</td>\n",
       "      <td>0</td>\n",
       "      <td>0</td>\n",
       "      <td>0</td>\n",
       "      <td>0</td>\n",
       "      <td>0</td>\n",
       "      <td>0</td>\n",
       "      <td>0</td>\n",
       "      <td>0</td>\n",
       "      <td>0</td>\n",
       "      <td>...</td>\n",
       "      <td>0</td>\n",
       "      <td>0</td>\n",
       "      <td>0</td>\n",
       "      <td>0</td>\n",
       "      <td>0</td>\n",
       "      <td>0</td>\n",
       "      <td>0</td>\n",
       "      <td>0</td>\n",
       "      <td>0</td>\n",
       "      <td>0</td>\n",
       "    </tr>\n",
       "    <tr>\n",
       "      <th>2</th>\n",
       "      <td>1</td>\n",
       "      <td>0</td>\n",
       "      <td>0</td>\n",
       "      <td>0</td>\n",
       "      <td>0</td>\n",
       "      <td>0</td>\n",
       "      <td>0</td>\n",
       "      <td>0</td>\n",
       "      <td>0</td>\n",
       "      <td>0</td>\n",
       "      <td>...</td>\n",
       "      <td>0</td>\n",
       "      <td>0</td>\n",
       "      <td>0</td>\n",
       "      <td>0</td>\n",
       "      <td>0</td>\n",
       "      <td>0</td>\n",
       "      <td>0</td>\n",
       "      <td>0</td>\n",
       "      <td>0</td>\n",
       "      <td>0</td>\n",
       "    </tr>\n",
       "    <tr>\n",
       "      <th>3</th>\n",
       "      <td>4</td>\n",
       "      <td>0</td>\n",
       "      <td>0</td>\n",
       "      <td>0</td>\n",
       "      <td>0</td>\n",
       "      <td>0</td>\n",
       "      <td>0</td>\n",
       "      <td>0</td>\n",
       "      <td>0</td>\n",
       "      <td>0</td>\n",
       "      <td>...</td>\n",
       "      <td>0</td>\n",
       "      <td>0</td>\n",
       "      <td>0</td>\n",
       "      <td>0</td>\n",
       "      <td>0</td>\n",
       "      <td>0</td>\n",
       "      <td>0</td>\n",
       "      <td>0</td>\n",
       "      <td>0</td>\n",
       "      <td>0</td>\n",
       "    </tr>\n",
       "    <tr>\n",
       "      <th>4</th>\n",
       "      <td>0</td>\n",
       "      <td>0</td>\n",
       "      <td>0</td>\n",
       "      <td>0</td>\n",
       "      <td>0</td>\n",
       "      <td>0</td>\n",
       "      <td>0</td>\n",
       "      <td>0</td>\n",
       "      <td>0</td>\n",
       "      <td>0</td>\n",
       "      <td>...</td>\n",
       "      <td>0</td>\n",
       "      <td>0</td>\n",
       "      <td>0</td>\n",
       "      <td>0</td>\n",
       "      <td>0</td>\n",
       "      <td>0</td>\n",
       "      <td>0</td>\n",
       "      <td>0</td>\n",
       "      <td>0</td>\n",
       "      <td>0</td>\n",
       "    </tr>\n",
       "  </tbody>\n",
       "</table>\n",
       "<p>5 rows × 785 columns</p>\n",
       "</div>"
      ],
      "text/plain": [
       "   label  pixel0  pixel1  pixel2  pixel3  pixel4  pixel5  pixel6  pixel7  \\\n",
       "0      1       0       0       0       0       0       0       0       0   \n",
       "1      0       0       0       0       0       0       0       0       0   \n",
       "2      1       0       0       0       0       0       0       0       0   \n",
       "3      4       0       0       0       0       0       0       0       0   \n",
       "4      0       0       0       0       0       0       0       0       0   \n",
       "\n",
       "   pixel8    ...     pixel774  pixel775  pixel776  pixel777  pixel778  \\\n",
       "0       0    ...            0         0         0         0         0   \n",
       "1       0    ...            0         0         0         0         0   \n",
       "2       0    ...            0         0         0         0         0   \n",
       "3       0    ...            0         0         0         0         0   \n",
       "4       0    ...            0         0         0         0         0   \n",
       "\n",
       "   pixel779  pixel780  pixel781  pixel782  pixel783  \n",
       "0         0         0         0         0         0  \n",
       "1         0         0         0         0         0  \n",
       "2         0         0         0         0         0  \n",
       "3         0         0         0         0         0  \n",
       "4         0         0         0         0         0  \n",
       "\n",
       "[5 rows x 785 columns]"
      ]
     },
     "execution_count": 6,
     "metadata": {},
     "output_type": "execute_result"
    }
   ],
   "source": [
    "digits.head()"
   ]
  },
  {
   "cell_type": "markdown",
   "metadata": {},
   "source": [
    "# Data Cleaning"
   ]
  },
  {
   "cell_type": "code",
   "execution_count": 49,
   "metadata": {},
   "outputs": [
    {
     "data": {
      "text/plain": [
       "(784,)"
      ]
     },
     "execution_count": 49,
     "metadata": {},
     "output_type": "execute_result"
    }
   ],
   "source": [
    "#digits.describe()\n",
    "zero=digits.iloc[4,1:]\n",
    "zero.shape"
   ]
  },
  {
   "cell_type": "code",
   "execution_count": 17,
   "metadata": {},
   "outputs": [
    {
     "data": {
      "text/plain": [
       "array([  0,   0,   0,   0,   0,   0,   0,   0,   0,   0,   0,   0,   0,\n",
       "         0,   0,   0,   0,   0,   0,   0,   0,   0,   0,   0,   0,   0,\n",
       "         0,   0,   0,   0,   0,   0,   0,   0,   0,   0,   0,   0,   0,\n",
       "         0,   0,   0,   0,   0,   0,   0,   0,   0,   0,   0,   0,   0,\n",
       "         0,   0,   0,   0,   0,   0,   0,   0,   0,   0,   0,   0,   0,\n",
       "         0,   0,   0,   0,   0,   0,   0,   0,   0,   0,   0,   0,   0,\n",
       "         0,   0,   0,   0,   0,   0,   0,   0,   0,   0,   0,   0,   0,\n",
       "         0,   0,   0,   0,   0,   0,   0,   0,   0,   0,   0,   0,   0,\n",
       "         0,   0,   0,   0,   0,   0,   0,   0,   0,   0,   0,   0,   0,\n",
       "         0,   0,   0,   0,   1,  25, 130, 155, 254, 254, 254, 157,  30,\n",
       "         2,   0,   0,   0,   0,   0,   0,   0,   0,   0,   0,   0,   0,\n",
       "         0,   0,   0,   0,   0,   8, 103, 253, 253, 253, 253, 253, 253,\n",
       "       253, 253, 114,   2,   0,   0,   0,   0,   0,   0,   0,   0,   0,\n",
       "         0,   0,   0,   0,   0,   0,  11, 208, 253, 253, 253, 253, 253,\n",
       "       253, 253, 253, 253, 253, 107,   0,   0,   0,   0,   0,   0,   0,\n",
       "         0,   0,   0,   0,   0,   0,   0,   0,  31, 253, 253, 253, 253,\n",
       "       253, 253, 253, 253, 253, 253, 253, 215, 101,   3,   0,   0,   0,\n",
       "         0,   0,   0,   0,   0,   0,   0,   0,   0,  23, 210, 253, 253,\n",
       "       253, 248, 161, 222, 222, 246, 253, 253, 253, 253, 253,  39,   0,\n",
       "         0,   0,   0,   0,   0,   0,   0,   0,   0,   0,   0, 136, 253,\n",
       "       253, 253, 229,  77,   0,   0,   0,  70, 218, 253, 253, 253, 253,\n",
       "       215,  91,   0,   0,   0,   0,   0,   0,   0,   0,   0,   0,   5,\n",
       "       214, 253, 253, 253, 195,   0,   0,   0,   0,   0, 104, 224, 253,\n",
       "       253, 253, 253, 215,  29,   0,   0,   0,   0,   0,   0,   0,   0,\n",
       "         0, 116, 253, 253, 253, 247,  75,   0,   0,   0,   0,   0,   0,\n",
       "        26, 200, 253, 253, 253, 253, 216,   4,   0,   0,   0,   0,   0,\n",
       "         0,   0,   0, 254, 253, 253, 253, 195,   0,   0,   0,   0,   0,\n",
       "         0,   0,   0,  26, 200, 253, 253, 253, 253,   5,   0,   0,   0,\n",
       "         0,   0,   0,   0,   0, 254, 253, 253, 253,  99,   0,   0,   0,\n",
       "         0,   0,   0,   0,   0,   0,  25, 231, 253, 253, 253,  36,   0,\n",
       "         0,   0,   0,   0,   0,   0,   0, 254, 253, 253, 253,  99,   0,\n",
       "         0,   0,   0,   0,   0,   0,   0,   0,   0, 223, 253, 253, 253,\n",
       "       129,   0,   0,   0,   0,   0,   0,   0,   0, 254, 253, 253, 253,\n",
       "        99,   0,   0,   0,   0,   0,   0,   0,   0,   0,   0, 127, 253,\n",
       "       253, 253, 129,   0,   0,   0,   0,   0,   0,   0,   0, 254, 253,\n",
       "       253, 253,  99,   0,   0,   0,   0,   0,   0,   0,   0,   0,   0,\n",
       "       139, 253, 253, 253,  90,   0,   0,   0,   0,   0,   0,   0,   0,\n",
       "       254, 253, 253, 253,  99,   0,   0,   0,   0,   0,   0,   0,   0,\n",
       "         0,  78, 248, 253, 253, 253,   5,   0,   0,   0,   0,   0,   0,\n",
       "         0,   0, 254, 253, 253, 253, 216,  34,   0,   0,   0,   0,   0,\n",
       "         0,   0,  33, 152, 253, 253, 253, 107,   1,   0,   0,   0,   0,\n",
       "         0,   0,   0,   0, 206, 253, 253, 253, 253, 140,   0,   0,   0,\n",
       "         0,   0,  30, 139, 234, 253, 253, 253, 154,   2,   0,   0,   0,\n",
       "         0,   0,   0,   0,   0,   0,  16, 205, 253, 253, 253, 250, 208,\n",
       "       106, 106, 106, 200, 237, 253, 253, 253, 253, 209,  22,   0,   0,\n",
       "         0,   0,   0,   0,   0,   0,   0,   0,   0,  82, 253, 253, 253,\n",
       "       253, 253, 253, 253, 253, 253, 253, 253, 253, 253, 209,  22,   0,\n",
       "         0,   0,   0,   0,   0,   0,   0,   0,   0,   0,   0,   1,  91,\n",
       "       253, 253, 253, 253, 253, 253, 253, 253, 253, 253, 213,  90,   7,\n",
       "         0,   0,   0,   0,   0,   0,   0,   0,   0,   0,   0,   0,   0,\n",
       "         0,   1,  18, 129, 208, 253, 253, 253, 253, 159, 129,  90,   4,\n",
       "         0,   0,   0,   0,   0,   0,   0,   0,   0,   0,   0,   0,   0,\n",
       "         0,   0,   0,   0,   0,   0,   0,   0,   0,   0,   0,   0,   0,\n",
       "         0,   0,   0,   0,   0,   0,   0,   0,   0,   0,   0,   0,   0,\n",
       "         0,   0,   0,   0,   0,   0,   0,   0,   0,   0,   0,   0,   0,\n",
       "         0,   0,   0,   0,   0,   0,   0,   0,   0,   0,   0,   0,   0,\n",
       "         0,   0,   0,   0,   0,   0,   0,   0,   0,   0,   0,   0,   0,\n",
       "         0,   0,   0,   0,   0,   0,   0,   0,   0,   0,   0,   0,   0,\n",
       "         0,   0,   0,   0,   0,   0,   0,   0,   0,   0,   0,   0,   0,\n",
       "         0,   0,   0,   0,   0,   0,   0,   0,   0,   0,   0,   0,   0,\n",
       "         0,   0,   0,   0], dtype=int64)"
      ]
     },
     "execution_count": 17,
     "metadata": {},
     "output_type": "execute_result"
    }
   ],
   "source": [
    "zero.values"
   ]
  },
  {
   "cell_type": "code",
   "execution_count": 18,
   "metadata": {},
   "outputs": [],
   "source": [
    "zero=zero.values.reshape(28,28)"
   ]
  },
  {
   "cell_type": "code",
   "execution_count": 25,
   "metadata": {},
   "outputs": [
    {
     "name": "stdout",
     "output_type": "stream",
     "text": [
      "(28, 28)\n",
      "AxesImage(54,36;334.8x217.44)\n"
     ]
    },
    {
     "data": {
      "image/png": "[encoded data removed]",
      "text/plain": [
       "<Figure size 432x288 with 1 Axes>"
      ]
     },
     "metadata": {},
     "output_type": "display_data"
    }
   ],
   "source": [
    "print(zero.shape)\n",
    "#print(plt.imshow(zero))\n",
    "print(plt.imshow(zero,cmap=\"gray\"))\n"
   ]
  },
  {
   "cell_type": "code",
   "execution_count": 32,
   "metadata": {},
   "outputs": [
    {
     "name": "stdout",
     "output_type": "stream",
     "text": [
      "[[  0   0   0   8 103 253 253 253 253 253 253 253 253 114   2   0   0   0]\n",
      " [  0   0  11 208 253 253 253 253 253 253 253 253 253 253 107   0   0   0]\n",
      " [  0   0  31 253 253 253 253 253 253 253 253 253 253 253 215 101   3   0]\n",
      " [  0  23 210 253 253 253 248 161 222 222 246 253 253 253 253 253  39   0]\n",
      " [  0 136 253 253 253 229  77   0   0   0  70 218 253 253 253 253 215  91]\n",
      " [  5 214 253 253 253 195   0   0   0   0   0 104 224 253 253 253 253 215]\n",
      " [116 253 253 253 247  75   0   0   0   0   0   0  26 200 253 253 253 253]\n",
      " [254 253 253 253 195   0   0   0   0   0   0   0   0  26 200 253 253 253]\n",
      " [254 253 253 253  99   0   0   0   0   0   0   0   0   0  25 231 253 253]\n",
      " [254 253 253 253  99   0   0   0   0   0   0   0   0   0   0 223 253 253]\n",
      " [254 253 253 253  99   0   0   0   0   0   0   0   0   0   0 127 253 253]\n",
      " [254 253 253 253  99   0   0   0   0   0   0   0   0   0   0 139 253 253]\n",
      " [254 253 253 253  99   0   0   0   0   0   0   0   0   0  78 248 253 253]\n",
      " [254 253 253 253 216  34   0   0   0   0   0   0   0  33 152 253 253 253]\n",
      " [206 253 253 253 253 140   0   0   0   0   0  30 139 234 253 253 253 154]\n",
      " [ 16 205 253 253 253 250 208 106 106 106 200 237 253 253 253 253 209  22]\n",
      " [  0  82 253 253 253 253 253 253 253 253 253 253 253 253 253 209  22   0]\n",
      " [  0   1  91 253 253 253 253 253 253 253 253 253 253 213  90   7   0   0]]\n"
     ]
    }
   ],
   "source": [
    "# Visualize the Array\n",
    "print(zero[5:-5,5:-5])\n",
    "#indices=[0,1,2,3,4,...]\n",
    "#reverse=[-n,......,-3,-2,-1]"
   ]
  },
  {
   "cell_type": "code",
   "execution_count": 40,
   "metadata": {},
   "outputs": [
    {
     "name": "stdout",
     "output_type": "stream",
     "text": [
      "1    4684\n",
      "7    4401\n",
      "3    4351\n",
      "9    4188\n",
      "2    4177\n",
      "6    4137\n",
      "0    4132\n",
      "4    4072\n",
      "8    4063\n",
      "5    3795\n",
      "Name: label, dtype: int64\n"
     ]
    }
   ],
   "source": [
    "count=digits.label.astype(\"category\").value_counts()\n",
    "print(count)\n"
   ]
  },
  {
   "cell_type": "code",
   "execution_count": 47,
   "metadata": {},
   "outputs": [
    {
     "name": "stdout",
     "output_type": "stream",
     "text": [
      "1    11.15\n",
      "7    10.48\n",
      "3    10.36\n",
      "9     9.97\n",
      "2     9.95\n",
      "6     9.85\n",
      "0     9.84\n",
      "4     9.70\n",
      "8     9.67\n",
      "5     9.04\n",
      "Name: label, dtype: float64\n"
     ]
    }
   ],
   "source": [
    "print(100*round(count/len(digits.index),4))"
   ]
  },
  {
   "cell_type": "markdown",
   "metadata": {},
   "source": [
    "With Each label the datasets have points between 9-11% which means the dataset is balanced. \n",
    "\n",
    "This is important to check the dataset is balanced or not because ***SVM rearly perform better in imbalanced data***"
   ]
  },
  {
   "cell_type": "code",
   "execution_count": 48,
   "metadata": {},
   "outputs": [
    {
     "data": {
      "text/plain": [
       "label       0\n",
       "pixel0      0\n",
       "pixel1      0\n",
       "pixel2      0\n",
       "pixel3      0\n",
       "pixel4      0\n",
       "pixel5      0\n",
       "pixel6      0\n",
       "pixel7      0\n",
       "pixel8      0\n",
       "pixel9      0\n",
       "pixel10     0\n",
       "pixel11     0\n",
       "pixel12     0\n",
       "pixel13     0\n",
       "pixel14     0\n",
       "pixel15     0\n",
       "pixel16     0\n",
       "pixel17     0\n",
       "pixel18     0\n",
       "pixel19     0\n",
       "pixel20     0\n",
       "pixel21     0\n",
       "pixel22     0\n",
       "pixel23     0\n",
       "pixel24     0\n",
       "pixel25     0\n",
       "pixel26     0\n",
       "pixel27     0\n",
       "pixel28     0\n",
       "           ..\n",
       "pixel754    0\n",
       "pixel755    0\n",
       "pixel756    0\n",
       "pixel757    0\n",
       "pixel758    0\n",
       "pixel759    0\n",
       "pixel760    0\n",
       "pixel761    0\n",
       "pixel762    0\n",
       "pixel763    0\n",
       "pixel764    0\n",
       "pixel765    0\n",
       "pixel766    0\n",
       "pixel767    0\n",
       "pixel768    0\n",
       "pixel769    0\n",
       "pixel770    0\n",
       "pixel771    0\n",
       "pixel772    0\n",
       "pixel773    0\n",
       "pixel774    0\n",
       "pixel775    0\n",
       "pixel776    0\n",
       "pixel777    0\n",
       "pixel778    0\n",
       "pixel779    0\n",
       "pixel780    0\n",
       "pixel781    0\n",
       "pixel782    0\n",
       "pixel783    0\n",
       "Length: 785, dtype: int64"
      ]
     },
     "execution_count": 48,
     "metadata": {},
     "output_type": "execute_result"
    }
   ],
   "source": [
    "# missing values\n",
    "digits.isnull().sum()"
   ]
  },
  {
   "cell_type": "code",
   "execution_count": 50,
   "metadata": {},
   "outputs": [],
   "source": [
    "# Rescale Features"
   ]
  },
  {
   "cell_type": "markdown",
   "metadata": {},
   "source": [
    "# Data Preparation"
   ]
  },
  {
   "cell_type": "code",
   "execution_count": 51,
   "metadata": {},
   "outputs": [],
   "source": [
    "X=digits.iloc[:,1:]\n",
    "y=digits.iloc[:,0]\n",
    "\n",
    "from sklearn.preprocessing import scale\n",
    "X=scale(X)\n"
   ]
  },
  {
   "cell_type": "code",
   "execution_count": 62,
   "metadata": {},
   "outputs": [
    {
     "name": "stdout",
     "output_type": "stream",
     "text": [
      "(8400, 784)\n",
      "(33600, 784)\n",
      "(8400,)\n",
      "(33600,)\n"
     ]
    }
   ],
   "source": [
    "X_train,X_test,y_train,y_test=train_test_split(X,y,train_size=0.2,random_state=4)\n",
    "print(X_train.shape)\n",
    "print(X_test.shape)\n",
    "print(y_train.shape)\n",
    "print(y_test.shape)"
   ]
  },
  {
   "cell_type": "code",
   "execution_count": 61,
   "metadata": {},
   "outputs": [],
   "source": [
    "del X_test # to free up some memory\n",
    "del y_test # to free up some memory\n"
   ]
  },
  {
   "cell_type": "markdown",
   "metadata": {},
   "source": [
    "# Model Building"
   ]
  },
  {
   "cell_type": "code",
   "execution_count": 57,
   "metadata": {},
   "outputs": [],
   "source": [
    "from sklearn.svm import SVC\n",
    "from sklearn import metrics\n"
   ]
  },
  {
   "cell_type": "code",
   "execution_count": 58,
   "metadata": {},
   "outputs": [
    {
     "data": {
      "text/plain": [
       "SVC(C=1.0, cache_size=200, class_weight=None, coef0=0.0,\n",
       "  decision_function_shape='ovr', degree=3, gamma='auto', kernel='linear',\n",
       "  max_iter=-1, probability=False, random_state=None, shrinking=True,\n",
       "  tol=0.001, verbose=False)"
      ]
     },
     "execution_count": 58,
     "metadata": {},
     "output_type": "execute_result"
    }
   ],
   "source": [
    "linear_svm=SVC(kernel=\"linear\")\n",
    "\n",
    "linear_svm.fit(X_train,y_train)"
   ]
  },
  {
   "cell_type": "code",
   "execution_count": 64,
   "metadata": {},
   "outputs": [],
   "source": [
    "y_pred=linear_svm.predict(X_test)"
   ]
  },
  {
   "cell_type": "code",
   "execution_count": 66,
   "metadata": {},
   "outputs": [
    {
     "data": {
      "text/plain": [
       "array([[3153,    0,   12,    2,   11,   27,   34,    2,   13,    1],\n",
       "       [   0, 3701,   13,    9,    3,    2,    1,    8,   22,    5],\n",
       "       [  37,   27, 3037,   73,   44,   13,   40,   24,   59,   15],\n",
       "       [  16,   16,   83, 3098,    9,  120,   12,   31,   67,   31],\n",
       "       [   4,   14,   26,    2, 3069,    8,   13,   11,    2,  103],\n",
       "       [  36,   33,   22,  169,   30, 2644,   42,    3,   60,   18],\n",
       "       [  32,   10,   48,    1,   40,   35, 3131,    0,   13,    0],\n",
       "       [  10,   28,   48,   16,   44,   12,    1, 3175,    2,  190],\n",
       "       [  27,   60,   39,  107,   35,  118,   24,   26, 2803,   32],\n",
       "       [  20,   18,   22,   35,  182,   14,    0,  137,   22, 2863]],\n",
       "      dtype=int64)"
      ]
     },
     "execution_count": 66,
     "metadata": {},
     "output_type": "execute_result"
    }
   ],
   "source": [
    "# evaluation: accuracy\n",
    "# C(i, j) represents the number of points known to be in class i \n",
    "# but predicted to be in class j\n",
    "\n",
    "confusion=metrics.confusion_matrix(y_true=y_test,y_pred=y_pred)\n",
    "confusion"
   ]
  },
  {
   "cell_type": "code",
   "execution_count": 68,
   "metadata": {},
   "outputs": [
    {
     "name": "stdout",
     "output_type": "stream",
     "text": [
      "accuracy: 0.9129166666666667\n"
     ]
    }
   ],
   "source": [
    "accuracy=metrics.accuracy_score(y_pred=y_pred,y_true=y_test)\n",
    "print(\"accuracy: {}\".format(accuracy))"
   ]
  },
  {
   "cell_type": "code",
   "execution_count": 69,
   "metadata": {},
   "outputs": [
    {
     "name": "stdout",
     "output_type": "stream",
     "text": [
      "             precision    recall  f1-score   support\n",
      "\n",
      "          0       0.95      0.97      0.96      3255\n",
      "          1       0.95      0.98      0.96      3764\n",
      "          2       0.91      0.90      0.90      3369\n",
      "          3       0.88      0.89      0.89      3483\n",
      "          4       0.89      0.94      0.91      3252\n",
      "          5       0.88      0.86      0.87      3057\n",
      "          6       0.95      0.95      0.95      3310\n",
      "          7       0.93      0.90      0.91      3526\n",
      "          8       0.92      0.86      0.89      3271\n",
      "          9       0.88      0.86      0.87      3313\n",
      "\n",
      "avg / total       0.91      0.91      0.91     33600\n",
      "\n"
     ]
    }
   ],
   "source": [
    "#class - wise accuracy\n",
    "class_wise=metrics.classification_report(y_pred=y_pred,y_true=y_test)\n",
    "print(class_wise)"
   ]
  },
  {
   "cell_type": "code",
   "execution_count": 71,
   "metadata": {},
   "outputs": [
    {
     "data": {
      "text/plain": [
       "2342"
      ]
     },
     "execution_count": 71,
     "metadata": {},
     "output_type": "execute_result"
    }
   ],
   "source": [
    "# run gc.collect()(garbage_collect ) to free up memory\n",
    "# because Dataset is larger and SVM is computationally expensive\n",
    "# it will throw memory error while training\n",
    "\n",
    "gc.collect()"
   ]
  },
  {
   "cell_type": "markdown",
   "metadata": {},
   "source": [
    "### Non Linear SVM"
   ]
  },
  {
   "cell_type": "code",
   "execution_count": 73,
   "metadata": {},
   "outputs": [],
   "source": [
    "# Using RBF kernel"
   ]
  },
  {
   "cell_type": "code",
   "execution_count": 74,
   "metadata": {},
   "outputs": [
    {
     "data": {
      "text/plain": [
       "SVC(C=1.0, cache_size=200, class_weight=None, coef0=0.0,\n",
       "  decision_function_shape='ovr', degree=3, gamma='auto', kernel='rbf',\n",
       "  max_iter=-1, probability=False, random_state=None, shrinking=True,\n",
       "  tol=0.001, verbose=False)"
      ]
     },
     "execution_count": 74,
     "metadata": {},
     "output_type": "execute_result"
    }
   ],
   "source": [
    "model=SVC(kernel=\"rbf\")\n",
    "\n",
    "model.fit(X_train,y_train)"
   ]
  },
  {
   "cell_type": "code",
   "execution_count": 75,
   "metadata": {},
   "outputs": [],
   "source": [
    "predictions=model.predict(X_test)"
   ]
  },
  {
   "cell_type": "code",
   "execution_count": 77,
   "metadata": {},
   "outputs": [
    {
     "name": "stdout",
     "output_type": "stream",
     "text": [
      " accuarcy: 0.9367261904761904\n"
     ]
    }
   ],
   "source": [
    "print(\" accuarcy: {}\".format(metrics.accuracy_score(y_true=y_test,y_pred=predictions)))"
   ]
  },
  {
   "cell_type": "code",
   "execution_count": 78,
   "metadata": {},
   "outputs": [],
   "source": [
    "# Accuracy of non_linear is linear"
   ]
  },
  {
   "cell_type": "code",
   "execution_count": 79,
   "metadata": {},
   "outputs": [],
   "source": [
    "from sklearn.model_selection import GridSearchCV\n",
    "params={\"C\":[1,10,100],\"gamma\":[1e-2,1e-3,1e-4]}"
   ]
  },
  {
   "cell_type": "code",
   "execution_count": 80,
   "metadata": {},
   "outputs": [],
   "source": [
    "svc_model=SVC(kernel=\"rbf\")"
   ]
  },
  {
   "cell_type": "code",
   "execution_count": 81,
   "metadata": {},
   "outputs": [],
   "source": [
    "cl=GridSearchCV(estimator=svc_model,param_grid=params,scoring=\"accuracy\")"
   ]
  },
  {
   "cell_type": "code",
   "execution_count": 82,
   "metadata": {},
   "outputs": [
    {
     "data": {
      "text/plain": [
       "GridSearchCV(cv=None, error_score='raise',\n",
       "       estimator=SVC(C=1.0, cache_size=200, class_weight=None, coef0=0.0,\n",
       "  decision_function_shape='ovr', degree=3, gamma='auto', kernel='rbf',\n",
       "  max_iter=-1, probability=False, random_state=None, shrinking=True,\n",
       "  tol=0.001, verbose=False),\n",
       "       fit_params=None, iid=True, n_jobs=1,\n",
       "       param_grid={'C': [1, 10, 100], 'gamma': [0.01, 0.001, 0.0001]},\n",
       "       pre_dispatch='2*n_jobs', refit=True, return_train_score='warn',\n",
       "       scoring='accuracy', verbose=0)"
      ]
     },
     "execution_count": 82,
     "metadata": {},
     "output_type": "execute_result"
    }
   ],
   "source": [
    "cl.fit(X_train,y_train)"
   ]
  },
  {
   "cell_type": "code",
   "execution_count": 83,
   "metadata": {},
   "outputs": [
    {
     "data": {
      "text/html": [
       "<div>\n",
       "<style scoped>\n",
       "    .dataframe tbody tr th:only-of-type {\n",
       "        vertical-align: middle;\n",
       "    }\n",
       "\n",
       "    .dataframe tbody tr th {\n",
       "        vertical-align: top;\n",
       "    }\n",
       "\n",
       "    .dataframe thead th {\n",
       "        text-align: right;\n",
       "    }\n",
       "</style>\n",
       "<table border=\"1\" class=\"dataframe\">\n",
       "  <thead>\n",
       "    <tr style=\"text-align: right;\">\n",
       "      <th></th>\n",
       "      <th>mean_fit_time</th>\n",
       "      <th>std_fit_time</th>\n",
       "      <th>mean_score_time</th>\n",
       "      <th>std_score_time</th>\n",
       "      <th>param_C</th>\n",
       "      <th>param_gamma</th>\n",
       "      <th>params</th>\n",
       "      <th>split0_test_score</th>\n",
       "      <th>split1_test_score</th>\n",
       "      <th>split2_test_score</th>\n",
       "      <th>mean_test_score</th>\n",
       "      <th>std_test_score</th>\n",
       "      <th>rank_test_score</th>\n",
       "      <th>split0_train_score</th>\n",
       "      <th>split1_train_score</th>\n",
       "      <th>split2_train_score</th>\n",
       "      <th>mean_train_score</th>\n",
       "      <th>std_train_score</th>\n",
       "    </tr>\n",
       "  </thead>\n",
       "  <tbody>\n",
       "    <tr>\n",
       "      <th>0</th>\n",
       "      <td>109.542418</td>\n",
       "      <td>0.615898</td>\n",
       "      <td>25.639924</td>\n",
       "      <td>0.150946</td>\n",
       "      <td>1</td>\n",
       "      <td>0.01</td>\n",
       "      <td>{'C': 1, 'gamma': 0.01}</td>\n",
       "      <td>0.738944</td>\n",
       "      <td>0.722500</td>\n",
       "      <td>0.746423</td>\n",
       "      <td>0.735952</td>\n",
       "      <td>0.009990</td>\n",
       "      <td>9</td>\n",
       "      <td>1.000000</td>\n",
       "      <td>1.000000</td>\n",
       "      <td>1.000000</td>\n",
       "      <td>1.000000</td>\n",
       "      <td>0.000000</td>\n",
       "    </tr>\n",
       "    <tr>\n",
       "      <th>1</th>\n",
       "      <td>27.612167</td>\n",
       "      <td>0.313369</td>\n",
       "      <td>15.374100</td>\n",
       "      <td>0.453686</td>\n",
       "      <td>1</td>\n",
       "      <td>0.001</td>\n",
       "      <td>{'C': 1, 'gamma': 0.001}</td>\n",
       "      <td>0.926890</td>\n",
       "      <td>0.928214</td>\n",
       "      <td>0.920601</td>\n",
       "      <td>0.925238</td>\n",
       "      <td>0.003320</td>\n",
       "      <td>3</td>\n",
       "      <td>0.972302</td>\n",
       "      <td>0.970357</td>\n",
       "      <td>0.971449</td>\n",
       "      <td>0.971369</td>\n",
       "      <td>0.000796</td>\n",
       "    </tr>\n",
       "    <tr>\n",
       "      <th>2</th>\n",
       "      <td>40.742158</td>\n",
       "      <td>0.648906</td>\n",
       "      <td>20.466943</td>\n",
       "      <td>0.330854</td>\n",
       "      <td>1</td>\n",
       "      <td>0.0001</td>\n",
       "      <td>{'C': 1, 'gamma': 0.0001}</td>\n",
       "      <td>0.894080</td>\n",
       "      <td>0.907500</td>\n",
       "      <td>0.888770</td>\n",
       "      <td>0.896786</td>\n",
       "      <td>0.007880</td>\n",
       "      <td>6</td>\n",
       "      <td>0.913688</td>\n",
       "      <td>0.910893</td>\n",
       "      <td>0.914882</td>\n",
       "      <td>0.913154</td>\n",
       "      <td>0.001672</td>\n",
       "    </tr>\n",
       "    <tr>\n",
       "      <th>3</th>\n",
       "      <td>104.718497</td>\n",
       "      <td>3.814163</td>\n",
       "      <td>23.313950</td>\n",
       "      <td>1.757174</td>\n",
       "      <td>10</td>\n",
       "      <td>0.01</td>\n",
       "      <td>{'C': 10, 'gamma': 0.01}</td>\n",
       "      <td>0.758559</td>\n",
       "      <td>0.741429</td>\n",
       "      <td>0.763233</td>\n",
       "      <td>0.754405</td>\n",
       "      <td>0.009372</td>\n",
       "      <td>7</td>\n",
       "      <td>1.000000</td>\n",
       "      <td>1.000000</td>\n",
       "      <td>1.000000</td>\n",
       "      <td>1.000000</td>\n",
       "      <td>0.000000</td>\n",
       "    </tr>\n",
       "    <tr>\n",
       "      <th>4</th>\n",
       "      <td>20.624136</td>\n",
       "      <td>0.166917</td>\n",
       "      <td>11.825883</td>\n",
       "      <td>0.033931</td>\n",
       "      <td>10</td>\n",
       "      <td>0.001</td>\n",
       "      <td>{'C': 10, 'gamma': 0.001}</td>\n",
       "      <td>0.934023</td>\n",
       "      <td>0.938571</td>\n",
       "      <td>0.931330</td>\n",
       "      <td>0.934643</td>\n",
       "      <td>0.002987</td>\n",
       "      <td>1</td>\n",
       "      <td>0.999285</td>\n",
       "      <td>0.999286</td>\n",
       "      <td>0.998394</td>\n",
       "      <td>0.998988</td>\n",
       "      <td>0.000420</td>\n",
       "    </tr>\n",
       "    <tr>\n",
       "      <th>5</th>\n",
       "      <td>15.981307</td>\n",
       "      <td>0.207175</td>\n",
       "      <td>10.979208</td>\n",
       "      <td>0.048560</td>\n",
       "      <td>10</td>\n",
       "      <td>0.0001</td>\n",
       "      <td>{'C': 10, 'gamma': 0.0001}</td>\n",
       "      <td>0.920471</td>\n",
       "      <td>0.922500</td>\n",
       "      <td>0.919528</td>\n",
       "      <td>0.920833</td>\n",
       "      <td>0.001240</td>\n",
       "      <td>4</td>\n",
       "      <td>0.960329</td>\n",
       "      <td>0.958929</td>\n",
       "      <td>0.958779</td>\n",
       "      <td>0.959346</td>\n",
       "      <td>0.000698</td>\n",
       "    </tr>\n",
       "    <tr>\n",
       "      <th>6</th>\n",
       "      <td>96.341269</td>\n",
       "      <td>0.986627</td>\n",
       "      <td>22.021212</td>\n",
       "      <td>0.165292</td>\n",
       "      <td>100</td>\n",
       "      <td>0.01</td>\n",
       "      <td>{'C': 100, 'gamma': 0.01}</td>\n",
       "      <td>0.758559</td>\n",
       "      <td>0.741429</td>\n",
       "      <td>0.763233</td>\n",
       "      <td>0.754405</td>\n",
       "      <td>0.009372</td>\n",
       "      <td>7</td>\n",
       "      <td>1.000000</td>\n",
       "      <td>1.000000</td>\n",
       "      <td>1.000000</td>\n",
       "      <td>1.000000</td>\n",
       "      <td>0.000000</td>\n",
       "    </tr>\n",
       "    <tr>\n",
       "      <th>7</th>\n",
       "      <td>20.535660</td>\n",
       "      <td>0.166386</td>\n",
       "      <td>11.818264</td>\n",
       "      <td>0.055340</td>\n",
       "      <td>100</td>\n",
       "      <td>0.001</td>\n",
       "      <td>{'C': 100, 'gamma': 0.001}</td>\n",
       "      <td>0.934736</td>\n",
       "      <td>0.937143</td>\n",
       "      <td>0.928112</td>\n",
       "      <td>0.933333</td>\n",
       "      <td>0.003817</td>\n",
       "      <td>2</td>\n",
       "      <td>1.000000</td>\n",
       "      <td>1.000000</td>\n",
       "      <td>1.000000</td>\n",
       "      <td>1.000000</td>\n",
       "      <td>0.000000</td>\n",
       "    </tr>\n",
       "    <tr>\n",
       "      <th>8</th>\n",
       "      <td>12.308862</td>\n",
       "      <td>0.192148</td>\n",
       "      <td>9.125986</td>\n",
       "      <td>0.022409</td>\n",
       "      <td>100</td>\n",
       "      <td>0.0001</td>\n",
       "      <td>{'C': 100, 'gamma': 0.0001}</td>\n",
       "      <td>0.920827</td>\n",
       "      <td>0.919643</td>\n",
       "      <td>0.917024</td>\n",
       "      <td>0.919167</td>\n",
       "      <td>0.001589</td>\n",
       "      <td>5</td>\n",
       "      <td>0.995890</td>\n",
       "      <td>0.994107</td>\n",
       "      <td>0.994647</td>\n",
       "      <td>0.994881</td>\n",
       "      <td>0.000746</td>\n",
       "    </tr>\n",
       "  </tbody>\n",
       "</table>\n",
       "</div>"
      ],
      "text/plain": [
       "   mean_fit_time  std_fit_time  mean_score_time  std_score_time param_C  \\\n",
       "0     109.542418      0.615898        25.639924        0.150946       1   \n",
       "1      27.612167      0.313369        15.374100        0.453686       1   \n",
       "2      40.742158      0.648906        20.466943        0.330854       1   \n",
       "3     104.718497      3.814163        23.313950        1.757174      10   \n",
       "4      20.624136      0.166917        11.825883        0.033931      10   \n",
       "5      15.981307      0.207175        10.979208        0.048560      10   \n",
       "6      96.341269      0.986627        22.021212        0.165292     100   \n",
       "7      20.535660      0.166386        11.818264        0.055340     100   \n",
       "8      12.308862      0.192148         9.125986        0.022409     100   \n",
       "\n",
       "  param_gamma                       params  split0_test_score  \\\n",
       "0        0.01      {'C': 1, 'gamma': 0.01}           0.738944   \n",
       "1       0.001     {'C': 1, 'gamma': 0.001}           0.926890   \n",
       "2      0.0001    {'C': 1, 'gamma': 0.0001}           0.894080   \n",
       "3        0.01     {'C': 10, 'gamma': 0.01}           0.758559   \n",
       "4       0.001    {'C': 10, 'gamma': 0.001}           0.934023   \n",
       "5      0.0001   {'C': 10, 'gamma': 0.0001}           0.920471   \n",
       "6        0.01    {'C': 100, 'gamma': 0.01}           0.758559   \n",
       "7       0.001   {'C': 100, 'gamma': 0.001}           0.934736   \n",
       "8      0.0001  {'C': 100, 'gamma': 0.0001}           0.920827   \n",
       "\n",
       "   split1_test_score  split2_test_score  mean_test_score  std_test_score  \\\n",
       "0           0.722500           0.746423         0.735952        0.009990   \n",
       "1           0.928214           0.920601         0.925238        0.003320   \n",
       "2           0.907500           0.888770         0.896786        0.007880   \n",
       "3           0.741429           0.763233         0.754405        0.009372   \n",
       "4           0.938571           0.931330         0.934643        0.002987   \n",
       "5           0.922500           0.919528         0.920833        0.001240   \n",
       "6           0.741429           0.763233         0.754405        0.009372   \n",
       "7           0.937143           0.928112         0.933333        0.003817   \n",
       "8           0.919643           0.917024         0.919167        0.001589   \n",
       "\n",
       "   rank_test_score  split0_train_score  split1_train_score  \\\n",
       "0                9            1.000000            1.000000   \n",
       "1                3            0.972302            0.970357   \n",
       "2                6            0.913688            0.910893   \n",
       "3                7            1.000000            1.000000   \n",
       "4                1            0.999285            0.999286   \n",
       "5                4            0.960329            0.958929   \n",
       "6                7            1.000000            1.000000   \n",
       "7                2            1.000000            1.000000   \n",
       "8                5            0.995890            0.994107   \n",
       "\n",
       "   split2_train_score  mean_train_score  std_train_score  \n",
       "0            1.000000          1.000000         0.000000  \n",
       "1            0.971449          0.971369         0.000796  \n",
       "2            0.914882          0.913154         0.001672  \n",
       "3            1.000000          1.000000         0.000000  \n",
       "4            0.998394          0.998988         0.000420  \n",
       "5            0.958779          0.959346         0.000698  \n",
       "6            1.000000          1.000000         0.000000  \n",
       "7            1.000000          1.000000         0.000000  \n",
       "8            0.994647          0.994881         0.000746  "
      ]
     },
     "execution_count": 83,
     "metadata": {},
     "output_type": "execute_result"
    }
   ],
   "source": [
    "cv_results=pd.DataFrame(cl.cv_results_)\n",
    "cv_results"
   ]
  },
  {
   "cell_type": "code",
   "execution_count": 84,
   "metadata": {},
   "outputs": [
    {
     "data": {
      "image/png": "[encoded data removed]",
      "text/plain": [
       "<Figure size 1152x432 with 3 Axes>"
      ]
     },
     "metadata": {},
     "output_type": "display_data"
    }
   ],
   "source": [
    "cv_results['param_C'] = cv_results['param_C'].astype('int')\n",
    "\n",
    "# # plotting\n",
    "plt.figure(figsize=(16,6))\n",
    "\n",
    "# subplot 1/3\n",
    "plt.subplot(131)\n",
    "gamma_01 = cv_results[cv_results['param_gamma']==0.01]\n",
    "\n",
    "plt.plot(gamma_01[\"param_C\"], gamma_01[\"mean_test_score\"])\n",
    "plt.plot(gamma_01[\"param_C\"], gamma_01[\"mean_train_score\"])\n",
    "plt.xlabel('C')\n",
    "plt.ylabel('Accuracy')\n",
    "plt.title(\"Gamma=0.01\")\n",
    "plt.ylim([0.60, 1])\n",
    "plt.legend(['test accuracy', 'train accuracy'], loc='lower right')\n",
    "plt.xscale('log')\n",
    "\n",
    "# subplot 2/3\n",
    "plt.subplot(132)\n",
    "gamma_001 = cv_results[cv_results['param_gamma']==0.001]\n",
    "\n",
    "plt.plot(gamma_001[\"param_C\"], gamma_001[\"mean_test_score\"])\n",
    "plt.plot(gamma_001[\"param_C\"], gamma_001[\"mean_train_score\"])\n",
    "plt.xlabel('C')\n",
    "plt.ylabel('Accuracy')\n",
    "plt.title(\"Gamma=0.001\")\n",
    "plt.ylim([0.60, 1])\n",
    "plt.legend(['test accuracy', 'train accuracy'], loc='lower right')\n",
    "plt.xscale('log')\n",
    "\n",
    "\n",
    "# subplot 3/3\n",
    "plt.subplot(133)\n",
    "gamma_0001 = cv_results[cv_results['param_gamma']==0.0001]\n",
    "\n",
    "plt.plot(gamma_0001[\"param_C\"], gamma_0001[\"mean_test_score\"])\n",
    "plt.plot(gamma_0001[\"param_C\"], gamma_0001[\"mean_train_score\"])\n",
    "plt.xlabel('C')\n",
    "plt.ylabel('Accuracy')\n",
    "plt.title(\"Gamma=0.0001\")\n",
    "plt.ylim([0.60, 1])\n",
    "plt.legend(['test accuracy', 'train accuracy'], loc='lower right')\n",
    "plt.xscale('log')\n",
    "\n",
    "plt.show()"
   ]
  },
  {
   "cell_type": "markdown",
   "metadata": {},
   "source": [
    "Thus, it seems that the best combination is gamma=0.001 and C=1 (the plot in the middle), which gives the highest test accuracy (~93%) while avoiding overfitting.\n",
    "\n"
   ]
  },
  {
   "cell_type": "code",
   "execution_count": null,
   "metadata": {},
   "outputs": [],
   "source": []
  }
 ],
 "metadata": {
  "celltoolbar": "Raw Cell Format",
  "kernelspec": {
   "display_name": "Python 3",
   "language": "python",
   "name": "python3"
  },
  "language_info": {
   "codemirror_mode": {
    "name": "ipython",
    "version": 3
   },
   "file_extension": ".py",
   "mimetype": "text/x-python",
   "name": "python",
   "nbconvert_exporter": "python",
   "pygments_lexer": "ipython3",
   "version": "3.6.5"
  }
 },
 "nbformat": 4,
 "nbformat_minor": 2
}
